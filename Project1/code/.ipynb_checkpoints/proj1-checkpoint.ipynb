{
 "cells": [
  {
   "cell_type": "markdown",
   "metadata": {
    "collapsed": true
   },
   "source": [
    "# BMI 826 / CS 838: Homework Assignment 1\n",
    "\n",
    "This project will be done using iPython notebooks. These are convenient ways for you to quickly and easily interact with the code. A notebook contains many blocks of code, each of which can be run independently. You can run a cell with ctrl+enter or shift+enter (to move to the next cell).\n",
    "\n",
    "If there are any notes you wish to leave for the TAs as they test your code, you may leave them here.\n",
    "\n",
    "## Setup"
   ]
  },
  {
   "cell_type": "code",
   "execution_count": null,
   "metadata": {},
   "outputs": [],
   "source": [
    "import numpy as np\n",
    "import matplotlib\n",
    "import matplotlib.pyplot as plt\n",
    "%matplotlib inline\n",
    "from utils import load_image, save_image\n",
    "from student_code import Compose, Scale, RandomHorizontalFlip, RandomColor, RandomRotate, RandomSizedCrop\n",
    "%load_ext autoreload\n",
    "%autoreload 2\n",
    "\n",
    "image1 = load_image('../data/dog.bmp')\n",
    "image2 = load_image('../data/bird.bmp')\n",
    "\n",
    "# display the dog and cat images\n",
    "plt.figure(figsize=(3,3)); plt.imshow(image1);\n",
    "plt.figure(figsize=(3,3)); plt.imshow(image2);\n"
   ]
  },
  {
   "cell_type": "markdown",
   "metadata": {},
   "source": [
    "## Create Image Transforms"
   ]
  },
  {
   "cell_type": "code",
   "execution_count": null,
   "metadata": {},
   "outputs": [],
   "source": [
    "# create an empty list and add transforms one by one\n",
    "transforms = []\n",
    "transforms.append(Scale(320))\n",
    "transforms.append(RandomHorizontalFlip())\n",
    "transforms.append(RandomColor(0.15))\n",
    "transforms.append(RandomRotate(30))\n",
    "transforms.append(RandomSizedCrop(224))\n",
    "comp_transforms = Compose(transforms)\n",
    "print(comp_transforms)\n"
   ]
  },
  {
   "cell_type": "markdown",
   "metadata": {},
   "source": [
    "## Apply Transforms to Images\n",
    "All functions you need to implement in this project can be found in student_code.py. You will need to fill in the missing code pieces in the Scale, RandomSizedCrop, RandomRotate and RandomColor."
   ]
  },
  {
   "cell_type": "code",
   "execution_count": null,
   "metadata": {},
   "outputs": [],
   "source": [
    "transformed_image1 = comp_transforms(image1)\n",
    "\n",
    "# let's take a look at the results!\n",
    "plt.figure(figsize=(4,4)); plt.imshow(image1);\n",
    "plt.figure(figsize=(4,4)); plt.imshow(transformed_image1);\n"
   ]
  },
  {
   "cell_type": "markdown",
   "metadata": {},
   "source": [
    "## Create More Results"
   ]
  },
  {
   "cell_type": "code",
   "execution_count": null,
   "metadata": {
    "scrolled": true
   },
   "outputs": [],
   "source": [
    "vis_img_list = []\n",
    "for img in [image1, image2]:\n",
    "    img_list = []\n",
    "    for idx in range(10):\n",
    "        img_list.append(comp_transforms(img))\n",
    "    vis_img = np.concatenate(img_list, axis=1)\n",
    "    vis_img_list.append(vis_img)\n",
    "\n",
    "for vis_img in vis_img_list:\n",
    "    plt.figure(figsize=(16,16)); plt.imshow(vis_img);"
   ]
  },
  {
   "cell_type": "markdown",
   "metadata": {},
   "source": [
    "## Save Results"
   ]
  },
  {
   "cell_type": "code",
   "execution_count": null,
   "metadata": {},
   "outputs": [],
   "source": [
    "for file_idx, vis_img in zip(range(len(vis_img_list)), vis_img_list):\n",
    "    save_image('../results/outputs_{:d}.jpg'.format(file_idx), vis_img)"
   ]
  },
  {
   "cell_type": "markdown",
   "metadata": {},
   "source": [
    "## Data Augmentation and Input Pipeline"
   ]
  },
  {
   "cell_type": "code",
   "execution_count": null,
   "metadata": {},
   "outputs": [],
   "source": [
    "from student_code import ToTensor, SimpleDataset\n",
    "import torch\n",
    "\n",
    "# set up the transforms (make sure you convert numpy array to pytorch tensor)\n",
    "transforms = []\n",
    "transforms.append(Scale(320))\n",
    "transforms.append(RandomHorizontalFlip())\n",
    "transforms.append(RandomColor(0.15))\n",
    "transforms.append(RandomRotate(30))\n",
    "transforms.append(RandomSizedCrop(224))\n",
    "transforms.append(ToTensor())\n",
    "comp_transforms = Compose(transforms)\n",
    "\n",
    "# let us try a toy dataset\n",
    "dataset = SimpleDataset('../data', file_ext='bmp', transforms=comp_transforms)\n",
    "data_loader = torch.utils.data.DataLoader(dataset, batch_size=2, shuffle=True)\n",
    "\n",
    "# loop over the data set\n",
    "for img, label in data_loader:\n",
    "    print(img.shape)\n",
    "    print(label)\n"
   ]
  }
 ],
 "metadata": {
  "kernelspec": {
   "display_name": "Python 3",
   "language": "python",
   "name": "python3"
  },
  "language_info": {
   "codemirror_mode": {
    "name": "ipython",
    "version": 3
   },
   "file_extension": ".py",
   "mimetype": "text/x-python",
   "name": "python",
   "nbconvert_exporter": "python",
   "pygments_lexer": "ipython3",
   "version": "3.7.3"
  },
  "widgets": {
   "state": {},
   "version": "1.1.2"
  }
 },
 "nbformat": 4,
 "nbformat_minor": 2
}
